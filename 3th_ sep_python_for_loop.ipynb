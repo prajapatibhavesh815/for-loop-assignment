{
 "cells": [
  {
   "cell_type": "markdown",
   "id": "93e974a4-1dc3-44bf-b08e-c29f2ab15714",
   "metadata": {},
   "source": [
    "                                                              assignment for loop "
   ]
  },
  {
   "cell_type": "markdown",
   "id": "a46e3790-b41f-435b-9973-967ff5ca97ff",
   "metadata": {},
   "source": [
    "          Basic Level"
   ]
  },
  {
   "cell_type": "markdown",
   "id": "595023ee-1dfb-44f3-9b98-ac91e91e1cb7",
   "metadata": {},
   "source": [
    "       1. Write a Python program to print the numbers from 1 to 10 using a `for` loop"
   ]
  },
  {
   "cell_type": "code",
   "execution_count": 9,
   "id": "9a4ce026-dfd1-49fa-b3f4-b73adbdca285",
   "metadata": {},
   "outputs": [
    {
     "name": "stdout",
     "output_type": "stream",
     "text": [
      "1\n",
      "2\n",
      "3\n",
      "4\n",
      "5\n",
      "6\n",
      "7\n",
      "8\n",
      "9\n",
      "10\n"
     ]
    }
   ],
   "source": [
    "#for loop 1 to 10 (including 10)\n",
    "for num in range(1,11):\n",
    "     print(num)"
   ]
  },
  {
   "cell_type": "markdown",
   "id": "eb46f18a-c489-4ff8-99bb-b282d2e718ab",
   "metadata": {},
   "source": [
    "        2. Create a program that calculates the sum of all numbers in a list using a `for` loop.\n"
   ]
  },
  {
   "cell_type": "code",
   "execution_count": 7,
   "id": "b6e248c5-9057-4dc7-a395-8a401958d4ad",
   "metadata": {},
   "outputs": [
    {
     "name": "stdout",
     "output_type": "stream",
     "text": [
      "Sum of all elements in given list:  78\n"
     ]
    }
   ],
   "source": [
    "# Python program to find sum of elements in list\n",
    " \n",
    "total = 0\n",
    " \n",
    "# creating a list\n",
    "list1 = [15, 5, 17, 18, 23]\n",
    " \n",
    "# Iterate each element in list\n",
    "# and add them in variable total\n",
    "for element in range(0, len(list1)):\n",
    "    total = total + list1[element]\n",
    " \n",
    " # printing total value\n",
    "print(\"Sum of all elements in given list: \", total)\n"
   ]
  },
  {
   "cell_type": "markdown",
   "id": "94d2c13c-33f0-4e3b-9c2e-0f94e7626753",
   "metadata": {},
   "source": [
    "       3. Write a program to print the characters of a string in reverse order using a `for` loop"
   ]
  },
  {
   "cell_type": "code",
   "execution_count": 14,
   "id": "293d4358-5293-4af9-a03a-cfd305c54f2b",
   "metadata": {},
   "outputs": [
    {
     "name": "stdout",
     "output_type": "stream",
     "text": [
      "The original list is : ['mango', 'and', 'apple', 'is', 'best']\n",
      "The reversed string list is : ['ognam', 'dna', 'elppa', 'si', 'tseb']\n"
     ]
    }
   ],
   "source": [
    "# Python3 code to demonstrate \n",
    "# Reverse All Strings in String List\n",
    "# using list comprehension\n",
    " \n",
    "# initializing list \n",
    "test_list = [\"mango\", \"and\", \"apple\", \"is\", \"best\"]\n",
    " \n",
    "# printing original list\n",
    "print (\"The original list is : \" + str(test_list))\n",
    " \n",
    "# using list comprehension\n",
    "# Reverse All Strings in String List\n",
    "res = [i[::-1] for i in test_list]\n",
    " \n",
    "# printing result\n",
    "print (\"The reversed string list is : \" + str(res))"
   ]
  },
  {
   "cell_type": "markdown",
   "id": "5812f0c0-d493-4f54-bf02-dfbabd15267b",
   "metadata": {},
   "source": [
    "        4. Develop a program that finds the factorial of a given number using a `for` loop"
   ]
  },
  {
   "cell_type": "code",
   "execution_count": 6,
   "id": "611173d4-0c1e-4176-bccc-49b3797a0126",
   "metadata": {},
   "outputs": [
    {
     "name": "stdin",
     "output_type": "stream",
     "text": [
      "Enter n: 5\n"
     ]
    },
    {
     "name": "stdout",
     "output_type": "stream",
     "text": [
      "Factorial of 5 is:120\n"
     ]
    }
   ],
   "source": [
    "n = int(input(\"Enter n:\"))\n",
    "factorial = 1\n",
    "for i in range(2, n+1):\n",
    " factorial *= i\n",
    "print(\"Factorial of {} is:{}\". format(n, factorial))\n"
   ]
  },
  {
   "cell_type": "markdown",
   "id": "00fb9d52-2aec-43e2-8526-c71ae3281096",
   "metadata": {},
   "source": [
    "      5. Create a program to print the multiplication table of a given number using a `for` loop"
   ]
  },
  {
   "cell_type": "code",
   "execution_count": 4,
   "id": "43229cbd-6412-42d2-a355-45db060095aa",
   "metadata": {},
   "outputs": [
    {
     "name": "stdout",
     "output_type": "stream",
     "text": [
      "Enter a Number: \n"
     ]
    },
    {
     "name": "stdin",
     "output_type": "stream",
     "text": [
      " 18\n"
     ]
    },
    {
     "name": "stdout",
     "output_type": "stream",
     "text": [
      "\n",
      "Multiplication Table:\n",
      "18\n",
      "36\n",
      "54\n",
      "72\n",
      "90\n",
      "108\n",
      "126\n",
      "144\n",
      "162\n",
      "180\n"
     ]
    }
   ],
   "source": [
    "print(\"Enter a Number: \")\n",
    "num = int(input())\n",
    "k = 1\n",
    "print(\"\\nMultiplication Table:\")\n",
    "for i in range(10):\n",
    "  mul = num*k\n",
    "  print(mul)\n",
    "  k = k+1"
   ]
  },
  {
   "cell_type": "markdown",
   "id": "addfab24-b8f9-4ff8-83f5-fa11b0737015",
   "metadata": {},
   "source": [
    "      6. Write a program that counts the number of even and odd numbers in a list using a `for` loop"
   ]
  },
  {
   "cell_type": "code",
   "execution_count": 1,
   "id": "a3c6cd12-4dd2-4907-894e-b2dfb2c869a3",
   "metadata": {},
   "outputs": [
    {
     "name": "stdout",
     "output_type": "stream",
     "text": [
      "Even numbers in the list:  3\n",
      "Odd numbers in the list:  4\n"
     ]
    }
   ],
   "source": [
    "# Python program to count Even\n",
    "# and Odd numbers in a List\n",
    " \n",
    "# list of numbers\n",
    "list1 = [10, 21, 4, 45, 66, 93, 1]\n",
    " \n",
    "even_count, odd_count = 0, 0\n",
    " \n",
    "# iterating each number in list\n",
    "for num in list1:\n",
    " \n",
    "    # checking condition\n",
    "    if num % 2 == 0:\n",
    "        even_count += 1\n",
    " \n",
    "    else:\n",
    "        odd_count += 1\n",
    " \n",
    "print(\"Even numbers in the list: \", even_count)\n",
    "print(\"Odd numbers in the list: \", odd_count)"
   ]
  },
  {
   "cell_type": "markdown",
   "id": "e05bbbfd-bc24-4b7c-a662-1709cf9a2b93",
   "metadata": {},
   "source": [
    "     7. Develop a program that prints the squares of numbers from 1 to 5 using a `for` loop"
   ]
  },
  {
   "cell_type": "code",
   "execution_count": 15,
   "id": "e38219ab-5c8e-4b52-98be-dfb9ebdfbe77",
   "metadata": {},
   "outputs": [
    {
     "name": "stdout",
     "output_type": "stream",
     "text": [
      "the sum of squers of first 5 natural number is sum 55\n"
     ]
    }
   ],
   "source": [
    "n = 5\n",
    "sum = 0\n",
    "for i in range(1,n+1):\n",
    "    sum += i**2\n",
    "    \n",
    "print(\"the sum of squers of first\",n,\"natural number is sum\",sum)"
   ]
  },
  {
   "cell_type": "markdown",
   "id": "da205a03-99e4-4f6a-9aef-a8cb39d3bf89",
   "metadata": {},
   "source": [
    "    8. Create a program to find the length of a string without using the `len()` function"
   ]
  },
  {
   "cell_type": "code",
   "execution_count": 19,
   "id": "bd362403-93a8-433f-8668-2ef7186aa9a3",
   "metadata": {},
   "outputs": [
    {
     "name": "stdout",
     "output_type": "stream",
     "text": [
      "12\n"
     ]
    }
   ],
   "source": [
    "def findLen(str):\n",
    "    counter = 0   \n",
    "    for i in str:\n",
    "        counter += 1\n",
    "    return counter\n",
    " \n",
    " \n",
    "str = \"good morning\"\n",
    "print(findLen(str))"
   ]
  },
  {
   "cell_type": "markdown",
   "id": "9b2831ac-c3b5-4355-8e38-ac828c692758",
   "metadata": {},
   "source": [
    "     9. Write a program that calculates the average of a list of numbers using a `for` loop.\n"
   ]
  },
  {
   "cell_type": "code",
   "execution_count": 29,
   "id": "ae7e5a2a-438b-48d8-837f-3694e408d978",
   "metadata": {},
   "outputs": [
    {
     "name": "stdout",
     "output_type": "stream",
     "text": [
      "average of the first= 44.7\n"
     ]
    }
   ],
   "source": [
    "def average(lst):\n",
    "    sum_of_list = 0\n",
    "    for i in range(len(lst)):\n",
    "        sum_of_list += lst[i]\n",
    "    average = sum_of_list/len(lst)\n",
    "    return average\n",
    "        \n",
    "lst = [15,25,35,45,36,14,78,89,98,12]\n",
    "average = average(lst)\n",
    "\n",
    "print(\"average of the first=\",round(average,2))\n",
    "            \n"
   ]
  },
  {
   "cell_type": "markdown",
   "id": "1af2f33e-7de2-4415-87b2-687a24eab174",
   "metadata": {},
   "source": [
    "      10. Develop a program that prints the first `n` Fibonacci numbers using a `for` loop"
   ]
  },
  {
   "cell_type": "code",
   "execution_count": 31,
   "id": "fa783f26-fc19-44ef-8a6a-48515167019c",
   "metadata": {},
   "outputs": [
    {
     "name": "stdout",
     "output_type": "stream",
     "text": [
      "0 1 1 2 3 5 8 "
     ]
    }
   ],
   "source": [
    "def print_fibonacci_number(n):\n",
    "    f1 = 0\n",
    "    f2 = 1\n",
    "    if(n<1):\n",
    "        return\n",
    "    print(f1,end = \" \")\n",
    "    for x in range(1, n):\n",
    "        print(f2, end =\" \")\n",
    "        next = f1 + f2\n",
    "        f1 = f2\n",
    "        f2 = next\n",
    "print_fibonacci_number(7)        \n",
    "        \n",
    "    \n",
    "    "
   ]
  },
  {
   "cell_type": "markdown",
   "id": "10dd7ef5-51ef-4975-9a69-46d6ecce23b3",
   "metadata": {},
   "source": [
    "                                      Intermediate Level:\n",
    "\n"
   ]
  },
  {
   "cell_type": "markdown",
   "id": "b0599d6c-85dc-47b8-8eb1-4b6f61037fc5",
   "metadata": {},
   "source": [
    "             11. Write a program to check if a given list contains any duplicates using a `for` loop"
   ]
  },
  {
   "cell_type": "code",
   "execution_count": 34,
   "id": "c7110c47-37a2-442b-be68-396e74ba6266",
   "metadata": {},
   "outputs": [
    {
     "name": "stdout",
     "output_type": "stream",
     "text": [
      "[1, 2, 5, 9]\n"
     ]
    }
   ],
   "source": [
    "list = [1,2,1,2,5,3,1,2,5,6,8,9,9,5,4,7,2]\n",
    "unique_list = []\n",
    "duplicate_list = []\n",
    "for i in list:\n",
    "    if i not in unique_list:\n",
    "        unique_list.append(i)\n",
    "    elif i not in duplicate_list:\n",
    "            duplicate_list.append(i)\n",
    "print(duplicate_list)"
   ]
  },
  {
   "cell_type": "markdown",
   "id": "fd24fec8-2ba5-4328-86b3-8d25109f9b39",
   "metadata": {},
   "source": [
    "     12. Create a program that prints the prime numbers in a given range using a `for` loop"
   ]
  },
  {
   "cell_type": "code",
   "execution_count": 42,
   "id": "89522e10-bab1-424f-8b58-8b2e03f7eacd",
   "metadata": {},
   "outputs": [
    {
     "name": "stdin",
     "output_type": "stream",
     "text": [
      "enter the minimum value: 2\n",
      "enter the maximum value: 10\n"
     ]
    },
    {
     "name": "stdout",
     "output_type": "stream",
     "text": [
      "the prime number is given range:\n",
      "2\n",
      "3\n",
      "5\n",
      "7\n"
     ]
    }
   ],
   "source": [
    "min_value = int(input(\"enter the minimum value:\"))\n",
    "max_value = int(input(\"enter the maximum value:\"))\n",
    "print(\"the prime number is given range:\")\n",
    "for num in range(min_value, max_value + 1):\n",
    "          if num >1:\n",
    "                for i in range(2,num):\n",
    "                    if(num % i) ==0:\n",
    "                        break\n",
    "                else:\n",
    "                    print(num)\n",
    "                \n",
    "                "
   ]
  },
  {
   "cell_type": "markdown",
   "id": "3dee521b-91b7-4522-9142-6f1fabe2b4e0",
   "metadata": {},
   "source": [
    "    \n",
    "    13. Develop a program that counts the number of vowels in a string using a `for` loop.\n"
   ]
  },
  {
   "cell_type": "code",
   "execution_count": 10,
   "id": "d31bdec9-1eec-4b23-b744-541b748bdd4b",
   "metadata": {},
   "outputs": [
    {
     "name": "stdin",
     "output_type": "stream",
     "text": [
      "enter a string: hello good morniing!\n"
     ]
    },
    {
     "name": "stdout",
     "output_type": "stream",
     "text": [
      "no. of vowel: 7\n"
     ]
    }
   ],
   "source": [
    "def vowel_count(str):\n",
    "    vowels = \"aeiouAEIOU\"\n",
    "    count = len([char for char in str if char in vowels])\n",
    "    print(\"no. of vowel:\", count)\n",
    "    \n",
    "str =input(\"enter a string:\")\n",
    "vowel_count(str)\n",
    "    \n"
   ]
  },
  {
   "cell_type": "markdown",
   "id": "1b8c5625-d656-454f-8523-664d3575590b",
   "metadata": {},
   "source": [
    "     14. Write a program to find the maximum element in a 2D list using a nested `for` loop.\n"
   ]
  },
  {
   "cell_type": "code",
   "execution_count": 23,
   "id": "443ef107-9bfd-4619-bc40-b9c029dd4d78",
   "metadata": {},
   "outputs": [
    {
     "name": "stdout",
     "output_type": "stream",
     "text": [
      "504\n"
     ]
    }
   ],
   "source": [
    "def prod(list):\n",
    "    maxi = 0\n",
    "    \n",
    "    \n",
    "    for x in list:\n",
    "        \n",
    "        p = 1\n",
    "        \n",
    "        \n",
    "        for i in x:\n",
    "            p *= i\n",
    "            maxi = max(p,maxi)\n",
    "    return maxi\n",
    "\n",
    "\n",
    "l = [[1, 2, 3], [4, 5, 6], [7, 8, 9]]\n",
    "print(prod(l))\n"
   ]
  },
  {
   "cell_type": "markdown",
   "id": "9b39bb01-8ae5-4610-ab92-6c43cbce4dfc",
   "metadata": {},
   "source": [
    "    15. Create a program that removes all occurrences of a specific element from a list using a `for` loop.\n",
    "  "
   ]
  },
  {
   "cell_type": "code",
   "execution_count": 33,
   "id": "d45d4ef4-d8aa-44b6-a115-135862db90c7",
   "metadata": {},
   "outputs": [
    {
     "name": "stdout",
     "output_type": "stream",
     "text": [
      "[12, 56, 89, 78, 413, 46]\n"
     ]
    }
   ],
   "source": [
    "my_list = [45,12,56,89,78,413,46]\n",
    "r_item = 45\n",
    "for item in my_list:\n",
    "    if (item ==  r_item):\n",
    "        my_list.remove(r_item)\n",
    "print(my_list)        "
   ]
  },
  {
   "cell_type": "markdown",
   "id": "31cb1187-db92-4b40-833c-b960d79428f0",
   "metadata": {},
   "source": [
    "    16. Develop a program that generates a multiplication table for numbers from 1 to 5 using a nested `for` loop"
   ]
  },
  {
   "cell_type": "code",
   "execution_count": 1,
   "id": "ba1b3abf-3eec-4688-aa38-6f1006e15bfe",
   "metadata": {},
   "outputs": [
    {
     "name": "stdin",
     "output_type": "stream",
     "text": [
      "Enter the number : 8\n"
     ]
    },
    {
     "name": "stdout",
     "output_type": "stream",
     "text": [
      "\n",
      "1 x 1 = 1\n",
      "1 x 2 = 2\n",
      "1 x 3 = 3\n",
      "1 x 4 = 4\n",
      "1 x 5 = 5\n",
      "1 x 6 = 6\n",
      "1 x 7 = 7\n",
      "1 x 8 = 8\n",
      "1 x 9 = 9\n",
      "1 x 10 = 10\n",
      "\n",
      "2 x 1 = 2\n",
      "2 x 2 = 4\n",
      "2 x 3 = 6\n",
      "2 x 4 = 8\n",
      "2 x 5 = 10\n",
      "2 x 6 = 12\n",
      "2 x 7 = 14\n",
      "2 x 8 = 16\n",
      "2 x 9 = 18\n",
      "2 x 10 = 20\n",
      "\n",
      "3 x 1 = 3\n",
      "3 x 2 = 6\n",
      "3 x 3 = 9\n",
      "3 x 4 = 12\n",
      "3 x 5 = 15\n",
      "3 x 6 = 18\n",
      "3 x 7 = 21\n",
      "3 x 8 = 24\n",
      "3 x 9 = 27\n",
      "3 x 10 = 30\n",
      "\n",
      "4 x 1 = 4\n",
      "4 x 2 = 8\n",
      "4 x 3 = 12\n",
      "4 x 4 = 16\n",
      "4 x 5 = 20\n",
      "4 x 6 = 24\n",
      "4 x 7 = 28\n",
      "4 x 8 = 32\n",
      "4 x 9 = 36\n",
      "4 x 10 = 40\n",
      "\n",
      "5 x 1 = 5\n",
      "5 x 2 = 10\n",
      "5 x 3 = 15\n",
      "5 x 4 = 20\n",
      "5 x 5 = 25\n",
      "5 x 6 = 30\n",
      "5 x 7 = 35\n",
      "5 x 8 = 40\n",
      "5 x 9 = 45\n",
      "5 x 10 = 50\n",
      "\n",
      "6 x 1 = 6\n",
      "6 x 2 = 12\n",
      "6 x 3 = 18\n",
      "6 x 4 = 24\n",
      "6 x 5 = 30\n",
      "6 x 6 = 36\n",
      "6 x 7 = 42\n",
      "6 x 8 = 48\n",
      "6 x 9 = 54\n",
      "6 x 10 = 60\n",
      "\n",
      "7 x 1 = 7\n",
      "7 x 2 = 14\n",
      "7 x 3 = 21\n",
      "7 x 4 = 28\n",
      "7 x 5 = 35\n",
      "7 x 6 = 42\n",
      "7 x 7 = 49\n",
      "7 x 8 = 56\n",
      "7 x 9 = 63\n",
      "7 x 10 = 70\n",
      "\n",
      "8 x 1 = 8\n",
      "8 x 2 = 16\n",
      "8 x 3 = 24\n",
      "8 x 4 = 32\n",
      "8 x 5 = 40\n",
      "8 x 6 = 48\n",
      "8 x 7 = 56\n",
      "8 x 8 = 64\n",
      "8 x 9 = 72\n",
      "8 x 10 = 80\n"
     ]
    }
   ],
   "source": [
    "num = int(input(\"Enter the number :\"))\n",
    "\n",
    "for i in range(1, num+1):\n",
    "  print()\n",
    "  for j in range(1,11):\n",
    "    print(i, 'x', j, '=', j*i)\n",
    "            "
   ]
  },
  {
   "cell_type": "markdown",
   "id": "cee80c2c-a3c9-4cd2-a767-d5286e03e881",
   "metadata": {},
   "source": [
    "      \n",
    "      17. Write a program that converts a list of Fahrenheit temperatures to Celsius using a `for` loop.\n"
   ]
  },
  {
   "cell_type": "code",
   "execution_count": 63,
   "id": "c53880a0-9c9b-4bee-a2ee-d6c120301488",
   "metadata": {},
   "outputs": [
    {
     "name": "stdout",
     "output_type": "stream",
     "text": [
      "[32.11, 7.28, -3.78, 18.44]\n"
     ]
    }
   ],
   "source": [
    "fahrenheit = [89.8, 45.1, 25.2, 65.2]\n",
    "count = 0\n",
    "cen = []\n",
    "for i in fahrenheit:\n",
    "    ce = ((i-32) * 5 / 9)\n",
    "    cen.append(round(ce,2))\n",
    "print(cen)    "
   ]
  },
  {
   "cell_type": "markdown",
   "id": "7fb22df4-0a4a-44c8-ab70-6e9b4a2c4159",
   "metadata": {},
   "source": [
    "    18. Create a program to print the common elements from two lists using a `for` loop.\n"
   ]
  },
  {
   "cell_type": "code",
   "execution_count": 2,
   "id": "422770d6-6c07-412b-8992-e64c33bdf2fa",
   "metadata": {},
   "outputs": [
    {
     "name": "stdout",
     "output_type": "stream",
     "text": [
      "{6}\n",
      "no commen element\n"
     ]
    }
   ],
   "source": [
    "def common_member(a,b):\n",
    "    a_set = set(a)\n",
    "    b_set = set(b)\n",
    "    \n",
    "    if(a_set & b_set):\n",
    "        print(a_set & b_set)\n",
    "    else:\n",
    "        print(\"no commen element\")\n",
    "       \n",
    "a = [1,2,3,4,5,6]\n",
    "b = [6,7,8,9,10,11]\n",
    "common_member(a,b)\n",
    "\n",
    "a = [1,2,3,4,5,6]\n",
    "b = [7,8,9,10,11]\n",
    "common_member(a,b)\n",
    "\n",
    "        \n",
    "    \n"
   ]
  },
  {
   "cell_type": "markdown",
   "id": "0a2660f7-9805-4cbf-a83d-54f42d536074",
   "metadata": {},
   "source": [
    "            19. Develop a program that prints the pattern of right-angled triangles using a `for` loop. Use ‘*’ to draw the pattrn\n"
   ]
  },
  {
   "cell_type": "code",
   "execution_count": 9,
   "id": "81977769-7867-427a-afcd-def3e0719c78",
   "metadata": {},
   "outputs": [
    {
     "name": "stdin",
     "output_type": "stream",
     "text": [
      "please enter the total number of rows 7\n"
     ]
    },
    {
     "name": "stdout",
     "output_type": "stream",
     "text": [
      "right angled triangles star patterns\n",
      "* \n",
      "* * \n",
      "* * * \n",
      "* * * * \n",
      "* * * * * \n",
      "* * * * * * \n",
      "* * * * * * * \n"
     ]
    }
   ],
   "source": [
    "rows = int(input(\"please enter the total number of rows\"))\n",
    "print(\"right angled triangles star patterns\")\n",
    "for i in range(1, rows + 1):\n",
    "    for j in range(1, i + 1):\n",
    "        print('*', end = ' ')\n",
    "    print()\n",
    "\n",
    "           "
   ]
  },
  {
   "cell_type": "markdown",
   "id": "65b1a487-6b0f-4817-a20f-53790a9639ef",
   "metadata": {},
   "source": [
    "     20. Write a program to find the greatest common divisor (GCD) of two numbers using a `for` loop"
   ]
  },
  {
   "cell_type": "code",
   "execution_count": 1,
   "id": "5bf99a3a-1f8a-4339-858a-bbd600263332",
   "metadata": {},
   "outputs": [
    {
     "name": "stdout",
     "output_type": "stream",
     "text": [
      "GCD of 12 & 17 = 1\n",
      "GCD of 4 & 6 = 2\n",
      "GCD of 336 & 360 = 24\n"
     ]
    }
   ],
   "source": [
    "def gcd(x, y):\n",
    "   gcd = 1   \n",
    "   if x % y == 0:\n",
    "       return y   \n",
    "   for k in range(int(y / 2), 0, -1):\n",
    "       if x % k == 0 and y % k == 0:\n",
    "           gcd = k\n",
    "           break \n",
    "   return gcd\n",
    "print(\"GCD of 12 & 17 =\",gcd(12, 17))\n",
    "print(\"GCD of 4 & 6 =\",gcd(4, 6))\n",
    "print(\"GCD of 336 & 360 =\",gcd(336, 360))"
   ]
  },
  {
   "cell_type": "markdown",
   "id": "46993e14-f51f-474d-885a-924b22f39f02",
   "metadata": {},
   "source": [
    "                           Advanced Level:\n"
   ]
  },
  {
   "cell_type": "markdown",
   "id": "2ddeccfa-214d-402f-8596-8aa56bbaa4ba",
   "metadata": {},
   "source": [
    "     21. Create a program that calculates the sum of the digits of numbers in a list using a list comprehension.\n"
   ]
  },
  {
   "cell_type": "code",
   "execution_count": 2,
   "id": "38ddcab2-33ea-434f-880c-10aa4cd90167",
   "metadata": {},
   "outputs": [
    {
     "name": "stdout",
     "output_type": "stream",
     "text": [
      "The original list is : [12, 67, 98, 34]\n",
      "List Integer Summation : [3, 13, 17, 7]\n"
     ]
    }
   ],
   "source": [
    "# Python3 code to demonstrate \n",
    "# Sum of number digits in List\n",
    "# using sum() + list comprehension\n",
    " \n",
    "# Initializing list\n",
    "test_list = [12, 67, 98, 34]\n",
    " \n",
    "# printing original list\n",
    "print(\"The original list is : \" + str(test_list))\n",
    " \n",
    "# Sum of number digits in List\n",
    "# using sum() + list comprehension\n",
    "res = list(map(lambda ele: sum(int(sub) for sub in str(ele)), test_list))\n",
    "     \n",
    "# printing result \n",
    "print (\"List Integer Summation : \" + str(res))"
   ]
  },
  {
   "cell_type": "markdown",
   "id": "9b8bd2de-94bd-476e-b5af-d44179e11d0d",
   "metadata": {},
   "source": [
    "     22. Write a program to find the prime factors of a given number using a `for` loop and list comprehension"
   ]
  },
  {
   "cell_type": "code",
   "execution_count": 13,
   "id": "924c99b8-f1a6-4865-a662-132d09cf0fb9",
   "metadata": {},
   "outputs": [
    {
     "name": "stdin",
     "output_type": "stream",
     "text": [
      " Please Enter any Number:  20\n"
     ]
    },
    {
     "name": "stdout",
     "output_type": "stream",
     "text": [
      " 2 is a Prime Factor of a Given Number 20\n",
      " 5 is a Prime Factor of a Given Number 20\n"
     ]
    }
   ],
   "source": [
    "Number = int(input(\" Please Enter any Number: \"))\n",
    "\n",
    "for i in range(2, Number + 1):\n",
    "    if(Number % i == 0):\n",
    "        isprime = 1\n",
    "        for j in range(2, (i //2 + 1)):\n",
    "            if(i % j == 0):\n",
    "                isprime = 0\n",
    "                break\n",
    "            \n",
    "        if (isprime == 1):\n",
    "            print(\" %d is a Prime Factor of a Given Number %d\" %(i, Number))"
   ]
  },
  {
   "cell_type": "markdown",
   "id": "40f2518f-debc-41af-a3bf-a8e651f8917c",
   "metadata": {},
   "source": [
    "    23.Develop a program that extracts unique elements from a list and stores them in a new list using a list comprehension\n"
   ]
  },
  {
   "cell_type": "code",
   "execution_count": 3,
   "id": "5c38f3a6-8e5b-4414-a081-4a99a1533b79",
   "metadata": {},
   "outputs": [
    {
     "name": "stdout",
     "output_type": "stream",
     "text": [
      "the unique values from 1st list is\n",
      "10\n",
      "20\n",
      "30\n",
      "40\n",
      "\n",
      "the unique values from 2nd list is\n",
      "1\n",
      "2\n",
      "3\n",
      "4\n",
      "5\n"
     ]
    }
   ],
   "source": [
    "# function to get unique values\n",
    "def unique(list1):\n",
    " \n",
    "    # initialize a null list\n",
    "    unique_list = []\n",
    " \n",
    "    # traverse for all elements\n",
    "    for x in list1:\n",
    "        # check if exists in unique_list or not\n",
    "        if x not in unique_list:\n",
    "            unique_list.append(x)\n",
    "    # print list\n",
    "    for x in unique_list:\n",
    "        print(x)\n",
    "    \n",
    " \n",
    " \n",
    "# driver code\n",
    "list1 = [10, 20, 10, 30, 40, 40]\n",
    "print(\"the unique values from 1st list is\")\n",
    "unique(list1)\n",
    " \n",
    " \n",
    "list2 = [1, 2, 1, 1, 3, 4, 3, 3, 5]\n",
    "print(\"\\nthe unique values from 2nd list is\")\n",
    "unique(list2)"
   ]
  },
  {
   "cell_type": "markdown",
   "id": "de5381be-dfea-4701-8dcf-0df1c5023faa",
   "metadata": {},
   "source": [
    "     24. Create a program that generates a list of all palindromic numbers up to a specified limit using a list comprehension\n"
   ]
  },
  {
   "cell_type": "code",
   "execution_count": 7,
   "id": "8524d7c0-1682-4db2-9df2-f9e679a291f6",
   "metadata": {},
   "outputs": [
    {
     "name": "stdout",
     "output_type": "stream",
     "text": [
      "121\n",
      "131\n",
      "141\n",
      "252\n",
      "Total palindrome nos. are 4\n"
     ]
    }
   ],
   "source": [
    "def palindromeNumbers(list_a):\n",
    "    c = 0\n",
    "    for i in list_a:\n",
    "        if str(i) == str(i)[::-1]:\n",
    "            print(i)\n",
    "            c += 1\n",
    "    print(\"Total palindrome nos. are\", c)\n",
    " \n",
    " \n",
    "list_a = [10 ,121, 131, 155, 141, 252]\n",
    "palindromeNumbers(list_a)"
   ]
  },
  {
   "cell_type": "markdown",
   "id": "d653cc40-3854-4186-a0a4-b5b2b40037b3",
   "metadata": {},
   "source": [
    "     25. Write a program to flatten a nested list using list comprehension.\n"
   ]
  },
  {
   "cell_type": "code",
   "execution_count": 8,
   "id": "46c83129-f6ac-4cec-a98c-026a403ee32c",
   "metadata": {},
   "outputs": [
    {
     "name": "stdout",
     "output_type": "stream",
     "text": [
      "[1, 2, 3, 4, 5, 6, 7]\n"
     ]
    }
   ],
   "source": [
    "my_list = [[1], [2, 3], [4, 5, 6, 7]]\n",
    "\n",
    "flat_list = []\n",
    "for sublist in my_list:\n",
    "    for num in sublist:\n",
    "        flat_list.append(num)\n",
    "\n",
    "print(flat_list)"
   ]
  },
  {
   "cell_type": "markdown",
   "id": "04cbc133-9a20-4003-978f-1eb30dbd2c4f",
   "metadata": {},
   "source": [
    "      26.Develop a program that computes the sum of even and odd numbers in a list separately using list comprehension\n"
   ]
  },
  {
   "cell_type": "code",
   "execution_count": 10,
   "id": "81f293ce-3526-4b38-9bfc-d8de3c54fefa",
   "metadata": {},
   "outputs": [
    {
     "name": "stdout",
     "output_type": "stream",
     "text": [
      "Even numbers in the list:  3\n",
      "Odd numbers in the list:  4\n"
     ]
    }
   ],
   "source": [
    "# list of numbers\n",
    "list1 = [10, 21, 4, 45, 66, 93, 1]\n",
    " \n",
    "even_count  = 0\n",
    "odd_count = 0\n",
    "# iterating each number in list\n",
    "for num in list1:\n",
    " \n",
    "    # checking condition\n",
    "    if num % 2 == 0:\n",
    "        even_count += 1\n",
    " \n",
    "    else:\n",
    "        odd_count += 1\n",
    " \n",
    "print(\"Even numbers in the list: \", even_count)\n",
    "print(\"Odd numbers in the list: \", odd_count)\n"
   ]
  },
  {
   "cell_type": "markdown",
   "id": "320595e1-bdf7-43c3-b118-ed3863b6354b",
   "metadata": {},
   "source": [
    "27. Create a program that generates a list of squares of odd numbers between 1 and 10 using list comprehension.\n",
    "\n"
   ]
  },
  {
   "cell_type": "code",
   "execution_count": 13,
   "id": "7563a4ca-bfe4-4ff1-a21d-cbbd95adffea",
   "metadata": {},
   "outputs": [
    {
     "name": "stdout",
     "output_type": "stream",
     "text": [
      "[1, 9, 25, 49, 81]\n"
     ]
    }
   ],
   "source": [
    "# create a list with 1 to 10 integer elements\n",
    "data=[1,2,3,4,5,6,7,8,9,10]\n",
    " \n",
    "# use list comprehension to get square\n",
    "# of odd numbers\n",
    "result = [i*i for i in data if i%2!=0]\n",
    " \n",
    "# display the result\n",
    "print(result)"
   ]
  },
  {
   "cell_type": "markdown",
   "id": "1d410f1e-6238-4664-8cdd-4e8a223a385f",
   "metadata": {},
   "source": [
    "       28. Write a program that combines two lists into a dictionary using list comprehension"
   ]
  },
  {
   "cell_type": "code",
   "execution_count": 1,
   "id": "207ffaee-d970-4a3c-b4a3-9cb590c4adc4",
   "metadata": {},
   "outputs": [
    {
     "name": "stdout",
     "output_type": "stream",
     "text": [
      "{'a': 1, 'b': 2, 'c': 3}\n"
     ]
    }
   ],
   "source": [
    "keys = ['a', 'b', 'c']\n",
    "values = [1, 2, 3]\n",
    "my_dict = dict(zip(keys, values))\n",
    "print(my_dict) \n"
   ]
  },
  {
   "cell_type": "markdown",
   "id": "776b62e5-6da8-4486-8871-233736e61a7d",
   "metadata": {},
   "source": [
    "     29. Develop a program that extracts the vowels from a string and stores them in a list using list comprehension"
   ]
  },
  {
   "cell_type": "code",
   "execution_count": 32,
   "id": "7a25cfa7-3c44-4a65-a373-e9113a0ec50f",
   "metadata": {},
   "outputs": [
    {
     "name": "stdout",
     "output_type": "stream",
     "text": [
      "['apple', 'orange', 'otter', 'iguana', 'eagle']\n"
     ]
    }
   ],
   "source": [
    "words = ['apple', 'orange', 'pear', 'milk', 'otter', 'snake', 'iguana',\n",
    "         'tiger', 'eagle']\n",
    "vowel=[word for word in words if word[0] in \"aeiou\"]\n",
    "for word in words:\n",
    "    if word [0]=='a,e,i,o,u':\n",
    "        vowel.append(word)\n",
    "print (vowel)"
   ]
  },
  {
   "cell_type": "markdown",
   "id": "564db23d-bea5-42dd-aa8f-82fc9577ca5d",
   "metadata": {},
   "source": [
    "     30. Create a program that removes all non-numeric characters from a list of strings using list comprehension"
   ]
  },
  {
   "cell_type": "code",
   "execution_count": 36,
   "id": "c785db1a-b952-4da8-a535-4f513dbae6f9",
   "metadata": {},
   "outputs": [
    {
     "name": "stdout",
     "output_type": "stream",
     "text": [
      "52678451454\n"
     ]
    }
   ],
   "source": [
    "import re\n",
    "\n",
    "my_str = 'he526llo bro7845th1454er'\n",
    "\n",
    "result = re.sub(r'[^0-9]', '', my_str)\n",
    "\n",
    "print(result)"
   ]
  },
  {
   "cell_type": "markdown",
   "id": "0a30d2fd-0d28-4a7f-b67f-f530a447b37b",
   "metadata": {},
   "source": [
    "                                                        \n",
    "                                                        Challenge Level:\n"
   ]
  },
  {
   "cell_type": "markdown",
   "id": "f877e25f-4be2-4d49-aca2-b976488d2eec",
   "metadata": {},
   "source": [
    "    31. Write a program to generate a list of prime numbers using the Sieve of Eratosthenes algorithm and list comprehension.\n",
    "\n"
   ]
  },
  {
   "cell_type": "code",
   "execution_count": 59,
   "id": "5df86a16-1517-4dc4-ac78-e60d04ade85e",
   "metadata": {},
   "outputs": [
    {
     "name": "stdout",
     "output_type": "stream",
     "text": [
      "2\n",
      "3\n",
      "5\n",
      "7\n",
      "11\n",
      "13\n",
      "17\n",
      "19\n",
      "23\n",
      "29\n",
      "31\n",
      "37\n",
      "41\n",
      "43\n",
      "47\n",
      "None\n"
     ]
    }
   ],
   "source": [
    "def prime_eratosthenes(n):\n",
    "    prime_list = []\n",
    "    for i in range(2, n+1):\n",
    "        if i not in prime_list:\n",
    "            print (i)\n",
    "            for j in range(i*i, n+1, i):\n",
    "                prime_list.append(j)\n",
    "\n",
    "print(prime_eratosthenes(50))\n"
   ]
  },
  {
   "cell_type": "markdown",
   "id": "c32dcba6-c7f7-4d80-8b98-2f891d45c8ff",
   "metadata": {},
   "source": [
    "    32. Create a program that generates a list of all Pythagorean triplets up to a specified limit using list comprehension.\n"
   ]
  },
  {
   "cell_type": "code",
   "execution_count": 68,
   "id": "d620ec4a-2c54-41ab-aeb6-e27e7fda50d1",
   "metadata": {},
   "outputs": [
    {
     "name": "stdin",
     "output_type": "stream",
     "text": [
      "Enter the value of n:  25\n"
     ]
    },
    {
     "name": "stdout",
     "output_type": "stream",
     "text": [
      "[(3, 4, 5), (5, 12, 13), (6, 8, 10), (7, 24, 25), (8, 15, 17), (9, 12, 15), (12, 16, 20), (15, 20, 25)]\n"
     ]
    }
   ],
   "source": [
    "n = int(input('Enter the value of n: '))\n",
    "print([(a, b, c) for a in range(1, n + 1) for b in range(a, n + 1)\n",
    "       for c in range(b, n + 1) if a**2 + b**2 == c**2])"
   ]
  },
  {
   "cell_type": "markdown",
   "id": "a96ed29c-296b-4124-9772-a940f0c734eb",
   "metadata": {},
   "source": [
    "     33. Develop a program that generates a list of all possible combinations of two lists using list comprehension"
   ]
  },
  {
   "cell_type": "code",
   "execution_count": 69,
   "id": "7ab4a724-2810-4f54-a857-b037cf81084f",
   "metadata": {},
   "outputs": [
    {
     "name": "stdout",
     "output_type": "stream",
     "text": [
      "[(1, 'a'), (1, 'b'), (1, 'c'), (2, 'a'), (2, 'b'), (2, 'c'), (3, 'a'), (3, 'b'), (3, 'c')]\n"
     ]
    }
   ],
   "source": [
    "list_1 = [1, 2, 3]\n",
    "list_2 = ['a', 'b', 'c']\n",
    "\n",
    "list_3 = [ (x, y) for x in list_1 for y in list_2 ]\n",
    "\n",
    "print(list_3)"
   ]
  },
  {
   "cell_type": "markdown",
   "id": "fc79503b-4e31-48fa-9a68-3ee8808c09b5",
   "metadata": {},
   "source": [
    "    34. Write a program that calculates the mean, median, and mode of a list of numbers using list comprehension.\n",
    "\n"
   ]
  },
  {
   "cell_type": "markdown",
   "id": "210d41ef-360b-4192-9487-0db4d0f04ac5",
   "metadata": {},
   "source": [
    "        \n",
    "        mean:"
   ]
  },
  {
   "cell_type": "code",
   "execution_count": 1,
   "id": "27921f14-1fc9-47a8-b5ee-d59924700ca9",
   "metadata": {},
   "outputs": [
    {
     "name": "stdout",
     "output_type": "stream",
     "text": [
      "Mean / Average is: 3.0\n"
     ]
    }
   ],
   "source": [
    "n_num = [1, 2, 3, 4, 5] \n",
    "n = len(n_num) \n",
    " \n",
    "get_sum = sum(n_num) \n",
    "mean = get_sum / n \n",
    " \n",
    "print(\"Mean / Average is: \" + str(mean))"
   ]
  },
  {
   "cell_type": "markdown",
   "id": "635d7200-3f45-4027-b4e7-373fa1ff0423",
   "metadata": {},
   "source": [
    "          median:"
   ]
  },
  {
   "cell_type": "code",
   "execution_count": 2,
   "id": "8e12948f-3864-42a2-9815-30a063d49fa9",
   "metadata": {},
   "outputs": [
    {
     "name": "stdout",
     "output_type": "stream",
     "text": [
      "Median is: 3\n"
     ]
    }
   ],
   "source": [
    "n_num = [1, 2, 3, 4, 5] \n",
    "n = len(n_num) \n",
    "n_num.sort() \n",
    " \n",
    "if n % 2 == 0: \n",
    "    median1 = n_num[n//2] \n",
    "    median2 = n_num[n//2 - 1] \n",
    "    median = (median1 + median2)/2\n",
    "else: \n",
    "    median = n_num[n//2] \n",
    "print(\"Median is: \" + str(median))"
   ]
  },
  {
   "cell_type": "markdown",
   "id": "4988aa9f-11aa-4d1d-b244-e44392d0bb95",
   "metadata": {},
   "source": [
    "        mode:"
   ]
  },
  {
   "cell_type": "code",
   "execution_count": 14,
   "id": "33c20eb0-e078-4173-ae5c-05845b7119cf",
   "metadata": {},
   "outputs": [
    {
     "name": "stdout",
     "output_type": "stream",
     "text": [
      "{8, 2, 4, 5}\n"
     ]
    }
   ],
   "source": [
    "number_list = [1, 2, 2, 3, 4, 4, 5, 5, 6, 7, 8, 8, 8]\n",
    "uniq_values = []\n",
    "mode_values = []\n",
    "for i in number_list:\n",
    "    if i not in uniq_values:\n",
    "        uniq_values.append(i)\n",
    "    else:\n",
    "        mode_values.append(i)\n",
    "print(set(mode_values))"
   ]
  },
  {
   "cell_type": "markdown",
   "id": "ab30fd02-6a50-4aa8-886b-3679c8ff2418",
   "metadata": {},
   "source": [
    "     35. Create a program that generates Pascal's triangle up to a specified number of rows using list comprehension.\n",
    "\n"
   ]
  },
  {
   "cell_type": "code",
   "execution_count": 15,
   "id": "651d4e20-f027-4b81-bd9a-a678e266d4bb",
   "metadata": {},
   "outputs": [
    {
     "name": "stdout",
     "output_type": "stream",
     "text": [
      "     \n",
      "    1 \n",
      "   1 1 \n",
      "  1 2 1 \n",
      " 1 3 3 1 \n",
      "1 4 6 4 1 \n"
     ]
    }
   ],
   "source": [
    "def solve(n):\n",
    "   for i in range(n+1):\n",
    "      for j in range(n-i):\n",
    "         print(' ', end='')\n",
    "\n",
    "      C = 1\n",
    "      for j in range(1, i+1):\n",
    "         print(C, ' ', sep='', end='')\n",
    "         C = C * (i - j) // j\n",
    "      print()\n",
    "\n",
    "n = 5\n",
    "solve(n)"
   ]
  },
  {
   "cell_type": "markdown",
   "id": "107527c5-5e9e-42c5-b6d8-af4651cf961a",
   "metadata": {},
   "source": [
    "     36. Develop a program that calculates the sum of the digits of a factorial of numbers from 1 to 5 using list comprehension.\n",
    "\n"
   ]
  },
  {
   "cell_type": "code",
   "execution_count": 16,
   "id": "de3bcaad-b229-402f-a878-7b26fbea8eb9",
   "metadata": {},
   "outputs": [
    {
     "name": "stdout",
     "output_type": "stream",
     "text": [
      "27\n",
      "648\n"
     ]
    }
   ],
   "source": [
    "def sum_of_digits_factorial(n):\n",
    "    fact = 1\n",
    "    for i in range(2, n+1):\n",
    "        fact *= i\n",
    "    sum_of_digits = 0\n",
    "    for digit in str(fact):\n",
    "        sum_of_digits += int(digit)\n",
    "    return sum_of_digits\n",
    " \n",
    "# Example usage\n",
    "print(sum_of_digits_factorial(10)) \n",
    "print(sum_of_digits_factorial(100))"
   ]
  },
  {
   "cell_type": "markdown",
   "id": "3cf3a97a-fa37-4722-867e-714d2446520b",
   "metadata": {},
   "source": [
    "     37. Write a program that finds the longest word in a sentence using list comprehension.\n"
   ]
  },
  {
   "cell_type": "code",
   "execution_count": 17,
   "id": "7c1ef9cf-5b98-406e-ad71-c5bfa24377ce",
   "metadata": {},
   "outputs": [
    {
     "name": "stdin",
     "output_type": "stream",
     "text": [
      "Enter sentence:  bhavesh, banana, mango\n"
     ]
    },
    {
     "name": "stdout",
     "output_type": "stream",
     "text": [
      "Longest word is:  bhavesh,\n",
      "And its length is:  8\n"
     ]
    }
   ],
   "source": [
    "sentence = input(\"Enter sentence: \")\n",
    "\n",
    "# Finding longest word\n",
    "longest = max(sentence.split(), key=len)\n",
    "\n",
    "# Displaying longest word\n",
    "print(\"Longest word is: \", longest)\n",
    "print(\"And its length is: \", len(longest))"
   ]
  },
  {
   "cell_type": "markdown",
   "id": "8be8ac69-21a0-4b49-9aa3-47af60de0f18",
   "metadata": {},
   "source": [
    "     38. Create a program that filters a list of strings to include only those with more than three vowels using list comprehension.\n"
   ]
  },
  {
   "cell_type": "code",
   "execution_count": 19,
   "id": "d88ebaff-d5ad-4bdb-be1a-790439689651",
   "metadata": {},
   "outputs": [
    {
     "name": "stdout",
     "output_type": "stream",
     "text": [
      "Maximum vowels word : bannana\n"
     ]
    }
   ],
   "source": [
    "test_list = [\"means\", \"best\", \"coding\", \"bannana\"]\n",
    " \n",
    "#using dictionary comprehsion\n",
    "vowel_count = {word: sum(1 for char in word if char in \"aeiouAEIOU\") for word in test_list}\n",
    " \n",
    "max_vowels = max(vowel_count, key=vowel_count.get)\n",
    " \n",
    "# Print the word with the maximum count of vowels\n",
    "print(\"Maximum vowels word : \" + max_vowels)\n",
    " \n",
    " "
   ]
  },
  {
   "cell_type": "markdown",
   "id": "7431c996-a492-40b1-af95-5338fce22955",
   "metadata": {},
   "source": [
    "       39. Develop a program that calculates the sum of the digits of numbers from 1 to 1000 using list comprehension.\n",
    "\n"
   ]
  },
  {
   "cell_type": "code",
   "execution_count": 24,
   "id": "f6c35b5f-05c4-471a-a85e-f53c1e70a203",
   "metadata": {},
   "outputs": [
    {
     "name": "stdout",
     "output_type": "stream",
     "text": [
      "[3, 4, 6, 10, 14, 18]\n"
     ]
    }
   ],
   "source": [
    "numlist = [111,220,330,550,770,990]\n",
    "out = []\n",
    "for x in numlist:\n",
    "    t = 0\n",
    "    for y in str(x):\n",
    "        t += int(y)\n",
    "    out.append(t)\n",
    "print(out)"
   ]
  },
  {
   "cell_type": "markdown",
   "id": "065c1b8b-5500-4b94-a0d9-28951201d457",
   "metadata": {},
   "source": [
    "     40. Write a program that generates a list of prime palindromic numbers using list comprehension.\n",
    "\n"
   ]
  },
  {
   "cell_type": "code",
   "execution_count": 26,
   "id": "454625f4-8c20-4e82-9d80-8b73ba1544bf",
   "metadata": {},
   "outputs": [
    {
     "name": "stdout",
     "output_type": "stream",
     "text": [
      "121\n",
      "141\n",
      "252\n",
      "Total palindrome nos. are 3\n"
     ]
    }
   ],
   "source": [
    "def palindromeNumbers(list_a):\n",
    "    c = 0\n",
    "    for i in list_a:\n",
    "        if str(i) == str(i)[::-1]:\n",
    "            print(i)\n",
    "            c += 1\n",
    "    print(\"Total palindrome nos. are\", c)\n",
    " \n",
    " \n",
    "list_a = [10, 121, 133, 155, 141, 252]\n",
    "palindromeNumbers(list_a)"
   ]
  },
  {
   "cell_type": "code",
   "execution_count": null,
   "id": "048ef9d8-6629-4bd2-a735-20a86d38668c",
   "metadata": {},
   "outputs": [],
   "source": []
  }
 ],
 "metadata": {
  "kernelspec": {
   "display_name": "Python 3 (ipykernel)",
   "language": "python",
   "name": "python3"
  },
  "language_info": {
   "codemirror_mode": {
    "name": "ipython",
    "version": 3
   },
   "file_extension": ".py",
   "mimetype": "text/x-python",
   "name": "python",
   "nbconvert_exporter": "python",
   "pygments_lexer": "ipython3",
   "version": "3.10.8"
  }
 },
 "nbformat": 4,
 "nbformat_minor": 5
}
